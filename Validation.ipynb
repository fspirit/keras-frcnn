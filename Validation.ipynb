{
 "cells": [
  {
   "cell_type": "code",
   "execution_count": 1,
   "metadata": {},
   "outputs": [],
   "source": [
    "import pandas as pd\n",
    "\n"
   ]
  },
  {
   "cell_type": "code",
   "execution_count": 2,
   "metadata": {},
   "outputs": [
    {
     "data": {
      "text/plain": [
       "((120918, 7), (13443, 7))"
      ]
     },
     "execution_count": 2,
     "metadata": {},
     "output_type": "execute_result"
    }
   ],
   "source": [
    "import gzip\n",
    "\n",
    "def load_validation():\n",
    "    all_boxes = pd.read_csv('train_boxes.csv')\n",
    "    filenames = [l.rstrip('\\n') for l in gzip.open('validation.filename.txt.gz', 'r').readlines()]\n",
    "    \n",
    "    train_boxes = all_boxes[~all_boxes.image_filename.isin(filenames)]\n",
    "    validation_boxes = all_boxes[all_boxes.image_filename.isin(filenames)]\n",
    "    return train_boxes, validation_boxes\n",
    "\n",
    "train_boxes, validation_boxes = load_validation()\n",
    "train_boxes.shape, validation_boxes.shape"
   ]
  },
  {
   "cell_type": "code",
   "execution_count": null,
   "metadata": {
    "collapsed": true
   },
   "outputs": [],
   "source": []
  }
 ],
 "metadata": {
  "kernelspec": {
   "display_name": "Python 2",
   "language": "python",
   "name": "python2"
  },
  "language_info": {
   "codemirror_mode": {
    "name": "ipython",
    "version": 2
   },
   "file_extension": ".py",
   "mimetype": "text/x-python",
   "name": "python",
   "nbconvert_exporter": "python",
   "pygments_lexer": "ipython2",
   "version": "2.7.12"
  }
 },
 "nbformat": 4,
 "nbformat_minor": 2
}
