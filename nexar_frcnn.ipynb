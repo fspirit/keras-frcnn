{
 "cells": [
  {
   "cell_type": "code",
   "execution_count": 1,
   "metadata": {
    "collapsed": true
   },
   "outputs": [],
   "source": [
    "import pandas as pd"
   ]
  },
  {
   "cell_type": "code",
   "execution_count": 29,
   "metadata": {},
   "outputs": [
    {
     "name": "stdout",
     "output_type": "stream",
     "text": [
      "13443\n"
     ]
    },
    {
     "name": "stderr",
     "output_type": "stream",
     "text": [
      "/Users/fs/miniconda3/envs/faster-rcnn/lib/python2.7/site-packages/ipykernel_launcher.py:33: SettingWithCopyWarning: \n",
      "A value is trying to be set on a copy of a slice from a DataFrame.\n",
      "Try using .loc[row_indexer,col_indexer] = value instead\n",
      "\n",
      "See the caveats in the documentation: http://pandas.pydata.org/pandas-docs/stable/indexing.html#indexing-view-versus-copy\n"
     ]
    }
   ],
   "source": [
    "import os\n",
    "import gzip\n",
    "\n",
    "nexar_train_dataset = dict(images='/data/nexar/train/images',\n",
    "                           annotation='~/Downloads/train (1).csv',\n",
    "                           bboxes='~/Downloads/train_boxes.csv')\n",
    "\n",
    "train_data_sets = [nexar_train_dataset]\n",
    "\n",
    "sample cool validation set from all data sets\n",
    "\n",
    "class Nexar2FasterRCNNInputGenerator:\n",
    "    \n",
    "    def load_external_val_filenames(images_path):\n",
    "        val_filenames = [l.rstrip('\\n') for l in gzip.open('validation.filename.txt.gz', 'r').readlines()]\n",
    "        val_filenames = [os.path.join(images_path, f) for f in val_filenames]\n",
    "    \n",
    "    def load_boxes(boxes_path, images_path):\n",
    "        boxes = pd.read_csv(boxes_path)\n",
    "        boxes['image_filename'] = boxes['image_filename'].apply(lambda f: os.path.join(images_path, f))\n",
    "        boxes[['x0', 'y0', 'x1', 'y1']] = boxes[['x0', 'y0', 'x1', 'y1']].astype(int)\n",
    "        \n",
    "    def prepare_train_input_file(train_boxes):\n",
    "        train_boxes['label'] = 'car'\n",
    "        train_boxes[['image_filename', 'x0', 'y0', 'x1', 'y1', 'label']].to_csv('./nexar2_faster_rcnn_train_input.csv', \n",
    "                                                                                index=False, header=False)\n",
    "        \n",
    "    def prepare_val_input_file(val_boxes):\n",
    "        val_boxes[['image_filename']].to_csv('./nexar2_faster_rcnn_val_input.csv', \n",
    "                                             index=False, header=False)\n",
    "    def prepare_val_gt_file(val_boxes):\n",
    "        val_boxes.to_csv('./nexar2_faster_rcnn_val_gt.csv', index=False)\n",
    "    \n",
    "    def generate_train_val_files(self, dataset, val_set_frac=0.2):\n",
    "        annotation = pd.read_csv(dataset['annotation'])\n",
    "        \n",
    "        val_filenames = self.load_external_val_filenames(dataset['images'])\n",
    "        boxes = self.load_boxes(dataset['boxes'], dataset['images'])\n",
    "        \n",
    "        train_boxes = boxes[~boxes.image_filename.isin(val_filenames)]        \n",
    "        self.prepare_train_input_file(train_boxes)\n",
    "        \n",
    "        val_boxes = boxes[boxes.image_filename.isin(val_filenames)]\n",
    "        self.prepare_val_input_file(val_boxes)\n",
    "        \n",
    "        \n",
    "    \n",
    "    \n",
    "        \n",
    "        \n",
    "\n",
    "# prepare predict input file\n",
    "\n",
    "\n",
    "# prepare val evaluator gt file\n",
    "\n",
    "\n",
    "# res = annotation.groupby(['city', 'lighting']).apply(lambda g: g.sample(frac=0.2))\n",
    "\n",
    "\n",
    "print len(val_boxes)\n",
    "\n"
   ]
  },
  {
   "cell_type": "code",
   "execution_count": 31,
   "metadata": {},
   "outputs": [
    {
     "name": "stdout",
     "output_type": "stream",
     "text": [
      "/data/nexar/train/images/frame_817c47b8-22c4-438a-8dc6-0e3f67f299ee_00000-1280_720.jpg\r\n",
      "/data/nexar/train/images/frame_817c47b8-22c4-438a-8dc6-0e3f67f299ee_00000-1280_720.jpg\r\n",
      "/data/nexar/train/images/frame_817c47b8-22c4-438a-8dc6-0e3f67f299ee_00000-1280_720.jpg\r\n",
      "/data/nexar/train/images/frame_0e3865c5-6a1c-4059-82f5-5d9157835ddb_00001-1280_720.jpg\r\n",
      "/data/nexar/train/images/frame_0e3865c5-6a1c-4059-82f5-5d9157835ddb_00001-1280_720.jpg\r\n",
      "/data/nexar/train/images/frame_30b5f316-7ed3-4d1e-851c-412d424a0b43_00000-1280_720.jpg\r\n",
      "/data/nexar/train/images/frame_79a70384-72d0-402f-969c-56b8bc4127ee_00000-1280_720.jpg\r\n",
      "/data/nexar/train/images/frame_79a70384-72d0-402f-969c-56b8bc4127ee_00000-1280_720.jpg\r\n",
      "/data/nexar/train/images/frame_096a48ce-cb8e-4bc2-acb5-5ecedbabfde2_00002-1280_720.jpg\r\n",
      "/data/nexar/train/images/frame_096a48ce-cb8e-4bc2-acb5-5ecedbabfde2_00002-1280_720.jpg\r\n"
     ]
    }
   ],
   "source": [
    "!head -n 10 ./nexar2_faster_rcnn_val_input.csv"
   ]
  },
  {
   "cell_type": "code",
   "execution_count": 13,
   "metadata": {},
   "outputs": [
    {
     "name": "stdout",
     "output_type": "stream",
     "text": [
      "5000\n"
     ]
    }
   ],
   "source": [
    "import gzip\n",
    "\n",
    "val_filenames = [l.rstrip('\\n') for l in gzip.open('validation.filename.txt.gz', 'r').readlines()]\n",
    "\n",
    "print len(val_filenames)"
   ]
  }
 ],
 "metadata": {
  "kernelspec": {
   "display_name": "Python 2",
   "language": "python",
   "name": "python2"
  },
  "language_info": {
   "codemirror_mode": {
    "name": "ipython",
    "version": 2
   },
   "file_extension": ".py",
   "mimetype": "text/x-python",
   "name": "python",
   "nbconvert_exporter": "python",
   "pygments_lexer": "ipython2",
   "version": "2.7.13"
  },
  "widgets": {
   "state": {},
   "version": "1.1.2"
  }
 },
 "nbformat": 4,
 "nbformat_minor": 1
}
